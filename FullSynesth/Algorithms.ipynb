{
 "cells": [
  {
   "cell_type": "code",
   "execution_count": 1,
   "id": "06758d9d",
   "metadata": {},
   "outputs": [],
   "source": [
    "from compute.util import EventCosts\n",
    "from model.history import (\n",
    "    Host,\n",
    "    Associate,\n",
    "    parse_tree,\n",
    "    graft_unsampled_hostsV2\n",
    ")\n",
    "from NaiveSynesth import NaiveSynesth,SynesthHistory,HistoryInputSyntenyTree\n",
    "from FullSynesth import HistoryInputGeneTrees, FullSynesth\n",
    "from Supertree import *\n",
    "from syntesim.Input import *"
   ]
  },
  {
   "cell_type": "code",
   "execution_count": 2,
   "id": "9b4ff089",
   "metadata": {},
   "outputs": [],
   "source": [
    "#input\n",
    "costs=EventCosts(\n",
    "        speciation=0,\n",
    "        loss=1,\n",
    "        duplication=1,\n",
    "        cut=1,\n",
    "        transfer_duplication=1,\n",
    "        transfer_cut=1,\n",
    "    )\n",
    "\n",
    "geneTree1 = parse_tree(Associate, \"(b1[&host=B,contents='{''x'',''y''}'],c1[&host=C,contents='{''x'',''z''}']);\")\n",
    "geneTree2 = parse_tree(Associate, \"(a1[&host=A,contents='{''x'',''y''}'],b2[&host=B,contents='{''x'',''z''}']);\")\n",
    "geneTree3 = parse_tree(Associate, \"(b3[&host=B,contents='{''x'',''y''}'],c2[&host=C,contents='{''x'',''y''}']);\")\n",
    "geneTrees = [geneTree1,geneTree2,geneTree3]\n",
    "\n",
    "speciesTree = parse_tree(Host, \"((A,B)D,C)E;\")\n",
    "AugmentedSpeciesTree = graft_unsampled_hostsV2(speciesTree)\n",
    "\n",
    "Input = HistoryInputGeneTrees(geneTrees,AugmentedSpeciesTree,costs)"
   ]
  },
  {
   "cell_type": "code",
   "execution_count": 3,
   "id": "b381c170",
   "metadata": {},
   "outputs": [
    {
     "name": "stdout",
     "output_type": "stream",
     "text": [
      "Minimum Cost: 3\n",
      "Corresponding synteny supertree: \n",
      "Associate()\n",
      "├──Associate()\n",
      "│  ├──Associate()\n",
      "│  │  ├──Associate()\n",
      "│  │  │  ├──Associate()\n",
      "│  │  │  │  ├──Associate(name='a1', host='A', contents={'x', 'y'})\n",
      "│  │  │  │  └──Associate(name='b3', host='B', contents={'x', 'y'})\n",
      "│  │  │  └──Associate(name='c2', host='C', contents={'x', 'y'})\n",
      "│  │  └──Associate(name='b1', host='B', contents={'x', 'y'})\n",
      "│  └──Associate(name='b2', host='B', contents={'x', 'z'})\n",
      "└──Associate(name='c1', host='C', contents={'x', 'z'})\n"
     ]
    }
   ],
   "source": [
    "#Resolution of the Minimum Super-Synteny Tree Problem using FullSynesth\n",
    "minimumCost, minimumSuperSyntenyTree = FullSynesth(Input)\n",
    "print(\"Minimum Cost: \" +str(minimumCost))\n",
    "print(\"Corresponding synteny supertree: \" )\n",
    "print(minimumSuperSyntenyTree)"
   ]
  },
  {
   "cell_type": "code",
   "execution_count": 4,
   "id": "b6e3dd79",
   "metadata": {},
   "outputs": [
    {
     "name": "stdout",
     "output_type": "stream",
     "text": [
      "Number of supertrees to be tested: 945\n",
      "Minimum Cost: 3\n",
      "Corresponding synteny supertree: \n",
      "Associate()\n",
      "├──Associate()\n",
      "│  ├──Associate()\n",
      "│  │  ├──Associate(name='c2', host='C', contents={'x', 'y'})\n",
      "│  │  └──Associate()\n",
      "│  │     ├──Associate(name='a1', host='A', contents={'x', 'y'})\n",
      "│  │     └──Associate(name='b3', host='B', contents={'x', 'y'})\n",
      "│  └──Associate()\n",
      "│     ├──Associate(name='c1', host='C', contents={'x', 'z'})\n",
      "│     └──Associate(name='b2', host='B', contents={'x', 'z'})\n",
      "└──Associate(name='b1', host='B', contents={'x', 'y'})\n"
     ]
    }
   ],
   "source": [
    "#Resolution of the Minimum Super-Synteny Tree Problem using NaiveSyesth\n",
    "print(\"Number of supertrees to be tested: \" + str(all_binary_supertrees_Number(geneTrees)))\n",
    "minimumCost, minimumSuperSyntenyTree = NaiveSynesth(Input)\n",
    "print(\"Minimum Cost: \" +str(minimumCost))\n",
    "print(\"Corresponding synteny supertree: \" )\n",
    "print(minimumSuperSyntenyTree)"
   ]
  },
  {
   "cell_type": "code",
   "execution_count": 5,
   "id": "43b9a3ef",
   "metadata": {},
   "outputs": [
    {
     "name": "stdout",
     "output_type": "stream",
     "text": [
      "Minimum Cost: 3\n",
      "Corresponding minimum history: \n",
      "Gain(host='E', contents={}, gained={'x', 'z'})\n",
      "└──Codiverge(host='E', contents={'x', 'z'})\n",
      "   ├──Codiverge(host='D[P]', contents={'x', 'z'})\n",
      "   │  ├──Extant(host='D[U]', contents={'x', 'z'})\n",
      "   │  └──Codiverge(host='D', contents={'x', 'z'})\n",
      "   │     ├──Diverge(host='A[P]', contents={'__extra__', 'x'}, segment={'__extra__', 'x'}, cut=True, transfer=True)\n",
      "   │     │  └──Gain(host='E[U]', contents={'__extra__', 'x'}, gained={'y'})\n",
      "   │     │     └──Diverge(host='E[U]', contents={'__extra__', 'x', 'y'}, segment={'x', 'y'}, transfer=True)\n",
      "   │     │        ├──Codiverge(host='E', contents={'x', 'y'})\n",
      "   │     │        │  ├──Codiverge(host='D[P]', contents={'x', 'y'})\n",
      "   │     │        │  │  ├──Extant(host='D[U]', contents={'x', 'y'})\n",
      "   │     │        │  │  └──Codiverge(host='D', contents={'x', 'y'})\n",
      "   │     │        │  │     ├──Codiverge(host='A[P]', contents={'x', 'y'})\n",
      "   │     │        │  │     │  ├──Extant(host='A[U]', contents={'x', 'y'})\n",
      "   │     │        │  │     │  └──Extant(name='a1', host='A', contents={'x', 'y'})\n",
      "   │     │        │  │     └──Codiverge(host='B[P]', contents={'x', 'y'})\n",
      "   │     │        │  │        ├──Extant(host='B[U]', contents={'x', 'y'})\n",
      "   │     │        │  │        └──Extant(name='b3', host='B', contents={'x', 'y'})\n",
      "   │     │        │  └──Codiverge(host='C[P]', contents={'x', 'y'})\n",
      "   │     │        │     ├──Extant(host='C[U]', contents={'x', 'y'})\n",
      "   │     │        │     └──Extant(name='c2', host='C', contents={'x', 'y'})\n",
      "   │     │        └──Diverge(host='E[U]', contents={'__extra__', 'x', 'y'}, segment={'x', 'y'}, transfer=True, result=1)\n",
      "   │     │           ├──Extant(host='E[U]', contents={'__extra__', 'x', 'y'})\n",
      "   │     │           └──Extant(name='b1', host='B', contents={'x', 'y'})\n",
      "   │     └──Codiverge(host='B[P]', contents={'x', 'z'})\n",
      "   │        ├──Extant(host='B[U]', contents={'x', 'z'})\n",
      "   │        └──Extant(name='b2', host='B', contents={'x', 'z'})\n",
      "   └──Codiverge(host='C[P]', contents={'x', 'z'})\n",
      "      ├──Extant(host='C[U]', contents={'x', 'z'})\n",
      "      └──Extant(name='c1', host='C', contents={'x', 'z'})\n"
     ]
    }
   ],
   "source": [
    "#Output the corresponding minimal history for a given sytneny tree, species tree, and costs \n",
    "costs=EventCosts(\n",
    "        speciation=0,\n",
    "        loss=1,\n",
    "        duplication=1,\n",
    "        cut=1,\n",
    "        transfer_duplication=1,\n",
    "        transfer_cut=1,\n",
    "    )\n",
    "sytenyTree = parse_tree(Associate, \"(((((a1[&host=A,contents='{''y'',''x'',}'],b3[&host=B,contents='{''y'',''x'',}']),c2[&host=C,contents='{''y'',''x'',}']),b1[&host=B,contents='{''y'',''x'',}']),b2[&host=B,contents='{''z'',''x'',}']),c1[&host=C,contents='{''z'',''x'',}']);\")\n",
    "speciesTree = parse_tree(Host, \"((A,B)D,C)E;\")\n",
    "augmentedSpeciesTree = graft_unsampled_hostsV2(speciesTree)\n",
    "InputSytneny = HistoryInputSyntenyTree(sytenyTree,AugmentedSpeciesTree,costs)\n",
    "minimumCost, minimumHistory = SynesthHistory(InputSytneny)\n",
    "print(\"Minimum Cost: \" +str(minimumCost))\n",
    "print(\"Corresponding minimum history: \" )\n",
    "print(minimumHistory)"
   ]
  },
  {
   "cell_type": "code",
   "execution_count": 6,
   "id": "79b6d143",
   "metadata": {},
   "outputs": [
    {
     "name": "stdout",
     "output_type": "stream",
     "text": [
      "Minimum Cost: 4\n",
      "Corresponding synteny supertree: \n",
      "Associate()\n",
      "├──Associate()\n",
      "│  ├──Associate()\n",
      "│  │  ├──Associate(name='X50', host='S22', contents={'F3'})\n",
      "│  │  └──Associate(name='X52', host='S23', contents={'F3'})\n",
      "│  └──Associate()\n",
      "│     ├──Associate(name='X51', host='S22', contents={'F3', 'F4'})\n",
      "│     └──Associate(name='X53', host='S23', contents={'F3', 'F4'})\n",
      "└──Associate()\n",
      "   ├──Associate()\n",
      "   │  ├──Associate()\n",
      "   │  │  ├──Associate()\n",
      "   │  │  │  ├──Associate()\n",
      "   │  │  │  │  ├──Associate()\n",
      "   │  │  │  │  │  ├──Associate(name='X42', host='S18', contents={'F3'})\n",
      "   │  │  │  │  │  └──Associate()\n",
      "   │  │  │  │  │     ├──Associate(name='X46', host='S20', contents={'F3'})\n",
      "   │  │  │  │  │     └──Associate(name='X49', host='S21', contents={'F3'})\n",
      "   │  │  │  │  └──Associate(name='X40', host='S19', contents={'F3'})\n",
      "   │  │  │  └──Associate()\n",
      "   │  │  │     ├──Associate(name='X30', host='S14', contents={'F3'})\n",
      "   │  │  │     └──Associate(name='X32', host='S15', contents={'F2', 'F3'})\n",
      "   │  │  └──Associate()\n",
      "   │  │     ├──Associate(name='X34', host='S16', contents={'F3'})\n",
      "   │  │     └──Associate()\n",
      "   │  │        ├──Associate(name='X44', host='S20', contents={'F3'})\n",
      "   │  │        └──Associate(name='X47', host='S21', contents={'F3'})\n",
      "   │  └──Associate()\n",
      "   │     ├──Associate(name='X20', host='S5', contents={'F1', 'F3'})\n",
      "   │     └──Associate(name='X21', host='S5', contents={'F3'})\n",
      "   └──Associate()\n",
      "      ├──Associate()\n",
      "      │  ├──Associate()\n",
      "      │  │  ├──Associate()\n",
      "      │  │  │  ├──Associate(name='X39', host='S18', contents={'F3'})\n",
      "      │  │  │  └──Associate(name='X41', host='S19', contents={'F3'})\n",
      "      │  │  └──Associate()\n",
      "      │  │     ├──Associate(name='X31', host='S14', contents={'F3'})\n",
      "      │  │     └──Associate(name='X33', host='S15', contents={'F3'})\n",
      "      │  └──Associate()\n",
      "      │     ├──Associate(name='X35', host='S16', contents={'F3'})\n",
      "      │     └──Associate()\n",
      "      │        ├──Associate(name='X45', host='S20', contents={'F3'})\n",
      "      │        └──Associate(name='X48', host='S21', contents={'F3'})\n",
      "      └──Associate(name='X11', host='S5', contents={'F0', 'F3'})\n"
     ]
    }
   ],
   "source": [
    "#Syntesim\n",
    "#The simulation outputs gene trees and species tree in input to the Minimum Super-Synteny Tree Problem\n",
    "costs=EventCosts(\n",
    "        speciation=0,\n",
    "        loss=1,\n",
    "        duplication=1,\n",
    "        cut=1,\n",
    "        transfer_duplication=1,\n",
    "        transfer_cut=1,\n",
    "    )\n",
    "\n",
    "\n",
    "seed = 20\n",
    "%run simulate {seed}\n",
    "\n",
    "#Simulation\n",
    "Simulation = open(\"Simulation.json\", \"r\")\n",
    "SimulationArray = Simulation.readlines()\n",
    "    \n",
    "#Verify that the simulation is not empty\n",
    "if(SimulationArray[len(SimulationArray)-1] != \"{\\\"state\\\": {}}\\n\"):\n",
    "    %run extract2 geneAndSpecies\n",
    "    geneTrees, speciesTree = dataSet(SimulationArray)\n",
    "    AugmentedSpeciesTree = graft_unsampled_hostsV2(speciesTree)\n",
    "    \n",
    "    # Resolution of the Minimum Super-Synteny Tree Problem using FullSynesth\n",
    "    Input = HistoryInputGeneTrees(geneTrees,AugmentedSpeciesTree,costs)\n",
    "    minimumCost, minimumSuperSyntenyTree = FullSynesth(Input)\n",
    "    print(\"Minimum Cost: \" +str(minimumCost))\n",
    "    print(\"Corresponding synteny supertree: \" )\n",
    "    print(minimumSuperSyntenyTree)\n",
    "else:\n",
    "    print(\"Simulation empty, please try another seed\")\n",
    "\n"
   ]
  },
  {
   "cell_type": "code",
   "execution_count": null,
   "id": "d2bb8402",
   "metadata": {},
   "outputs": [],
   "source": []
  }
 ],
 "metadata": {
  "kernelspec": {
   "display_name": "Python 3 (ipykernel)",
   "language": "python",
   "name": "python3"
  },
  "language_info": {
   "codemirror_mode": {
    "name": "ipython",
    "version": 3
   },
   "file_extension": ".py",
   "mimetype": "text/x-python",
   "name": "python",
   "nbconvert_exporter": "python",
   "pygments_lexer": "ipython3",
   "version": "3.11.5"
  }
 },
 "nbformat": 4,
 "nbformat_minor": 5
}
